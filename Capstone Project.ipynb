{
 "cells": [
  {
   "cell_type": "markdown",
   "metadata": {},
   "source": [
    "# Peer-graded Assignment: Capstone Project - The Battle of Neighborhoods"
   ]
  },
  {
   "cell_type": "markdown",
   "metadata": {},
   "source": [
    "### Week 1"
   ]
  },
  {
   "cell_type": "markdown",
   "metadata": {},
   "source": [
    "##### A description of the problem and a discussion of the background."
   ]
  },
  {
   "cell_type": "markdown",
   "metadata": {},
   "source": [
    "I live in Bangkok, Thailand. The current city is full of coffee shop because drinking coffee is still popular in Thailand. Opening a coffee shop is one small business that many people are interested in. But finding the location to open the coffee shop should not be too close to the existing shop. In a location that is suitable for the opening of the shop, for example, there is no coffee shop in that area Finding the right location to open a coffee shop is therefore an interesting problem in the analysis to find a suitable location."
   ]
  },
  {
   "cell_type": "markdown",
   "metadata": {},
   "source": [
    "##### A description of the data and how it will be used to solve the problem."
   ]
  },
  {
   "cell_type": "markdown",
   "metadata": {},
   "source": [
    "From the problems mentioned above Using data to solve such problems is very useful. The information that needs to be used is the location information of all the coffee shops in Bangkok. To find the midpoint or the right spot to open a coffee shop."
   ]
  },
  {
   "cell_type": "markdown",
   "metadata": {},
   "source": [
    "### Week2"
   ]
  },
  {
   "cell_type": "markdown",
   "metadata": {},
   "source": [
    "* Introduction where you discuss the business problem and who would be interested in this project.\n",
    "\n",
    "Problem to find the best locations to open the new coffee shop. Coffee shop owner must be interested in this project."
   ]
  },
  {
   "cell_type": "markdown",
   "metadata": {},
   "source": [
    "* Data where you describe the data that will be used to solve the problem and the source of the data.\n",
    "The data is the latitude and longtitude of the all of old coffee shop. You can find the lat,long from Foursqure API or open data."
   ]
  },
  {
   "cell_type": "markdown",
   "metadata": {},
   "source": [
    "* Methodology section which represents the main component of the report where you discuss and describe any exploratory data analysis that you did, any inferential statistical testing that you performed, and what machine learnings were used and why."
   ]
  },
  {
   "cell_type": "markdown",
   "metadata": {},
   "source": [
    "* Results section where you discuss the results."
   ]
  },
  {
   "cell_type": "markdown",
   "metadata": {},
   "source": [
    "* Discussion section where you discuss any observations you noted and any recommendations you can make based on the results."
   ]
  },
  {
   "cell_type": "markdown",
   "metadata": {},
   "source": [
    "* Conclusion section where you conclude the report."
   ]
  },
  {
   "cell_type": "markdown",
   "metadata": {},
   "source": [
    "#### Example"
   ]
  },
  {
   "cell_type": "code",
   "execution_count": 3,
   "metadata": {},
   "outputs": [],
   "source": [
    "old_coffee_shop = [\n",
    "     (-74.2813611,40.8752222),\n",
    "     (-73.4134167,40.7287778),\n",
    "     (-74.3145014,40.9475244),\n",
    "     (-74.2445833,40.6174444),\n",
    "     (-74.4148889,40.7993333),\n",
    "     (-73.7789256,40.6397511)\n",
    "    ]"
   ]
  },
  {
   "cell_type": "code",
   "execution_count": 5,
   "metadata": {},
   "outputs": [],
   "source": [
    "lat = []\n",
    "long = []\n",
    "for l in old_coffee_shop :\n",
    "  lat.append(l[0])\n",
    "  long.append(l[1])"
   ]
  },
  {
   "cell_type": "code",
   "execution_count": 6,
   "metadata": {},
   "outputs": [],
   "source": [
    "best_lat = sum(lat)/len(lat)\n",
    "best_long = sum(long)/len(long)"
   ]
  },
  {
   "cell_type": "code",
   "execution_count": 10,
   "metadata": {},
   "outputs": [
    {
     "name": "stdout",
     "output_type": "stream",
     "text": [
      "Best Location is  -74.07461283333332 , 40.76800886666667\n"
     ]
    }
   ],
   "source": [
    "print(\"Best Location is \",best_lat,\",\" ,best_long)"
   ]
  },
  {
   "cell_type": "code",
   "execution_count": null,
   "metadata": {},
   "outputs": [],
   "source": []
  }
 ],
 "metadata": {
  "kernelspec": {
   "display_name": "Python 3",
   "language": "python",
   "name": "python3"
  },
  "language_info": {
   "codemirror_mode": {
    "name": "ipython",
    "version": 3
   },
   "file_extension": ".py",
   "mimetype": "text/x-python",
   "name": "python",
   "nbconvert_exporter": "python",
   "pygments_lexer": "ipython3",
   "version": "3.7.2"
  }
 },
 "nbformat": 4,
 "nbformat_minor": 2
}
